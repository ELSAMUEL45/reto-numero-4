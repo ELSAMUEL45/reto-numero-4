{
  "nbformat": 4,
  "nbformat_minor": 0,
  "metadata": {
    "colab": {
      "provenance": [],
      "authorship_tag": "ABX9TyO292PmbuNHZVjZhKrFzthk",
      "include_colab_link": true
    },
    "kernelspec": {
      "name": "python3",
      "display_name": "Python 3"
    },
    "language_info": {
      "name": "python"
    }
  },
  "cells": [
    {
      "cell_type": "markdown",
      "metadata": {
        "id": "view-in-github",
        "colab_type": "text"
      },
      "source": [
        "<a href=\"https://colab.research.google.com/github/ELSAMUEL45/reto-numero-4/blob/main/Untitled0.ipynb\" target=\"_parent\"><img src=\"https://colab.research.google.com/assets/colab-badge.svg\" alt=\"Open In Colab\"/></a>"
      ]
    },
    {
      "cell_type": "code",
      "execution_count": 11,
      "metadata": {
        "colab": {
          "base_uri": "https://localhost:8080/"
        },
        "id": "7LLxXCeEfLKv",
        "outputId": "7f285057-6897-4386-bb1b-0e68dc9b2fb8"
      },
      "outputs": [
        {
          "output_type": "stream",
          "name": "stdout",
          "text": [
            "Ingrese un número ENTERO: 45\n",
            "el numero 45 no es una vocal minuscula en ASCCI\n",
            "45\n"
          ]
        }
      ],
      "source": [
        "n = int(input(\"Ingrese un número ENTERO: \"))\n",
        "\n",
        "# aca entonces toca poner cuales son los numeros estos del ascci\n",
        "ascii_vocales = [97, 101, 105, 111, 117]\n",
        "\n",
        "# Como ya estan definidos miramos si el número está en la lista\n",
        "if n in ascii_vocales:\n",
        "    print(\"El número \" + str(n) + \" es una vocal minúscula en ASCII\")\n",
        "else:\n",
        "    print(\"el numero \" + str(n) + \" no es una vocal minuscula en ASCCI\")\n",
        "\n",
        "\n",
        "print(n)\n"
      ]
    },
    {
      "cell_type": "code",
      "source": [
        "# Solicitar al usuario que ingrese una sola letra o símbolo\n",
        "cadena = input(\"Ingrese UNA SOLA LETRA O SIMBOLO! (una letra o símbolo): \")\n",
        "\n",
        "# Ahora verificar que lo que ingresaron sea de longitud 1\n",
        "if len(cadena) == 1:\n",
        "    # Tomamos el primer (y único) carácter de la cadena ingresada(le pregunté a chatgpt como hacerlo)\n",
        "    caracter = cadena[0]\n",
        "\n",
        "    # Para obtener el código ASCII, usamos la función ord(también le pregunté a chatgpt como hacerlo)\n",
        "    codigo_ascii = ord(caracter)\n",
        "\n",
        "    # Verificamos si el código ASCII es par o impar usando el operador %\n",
        "    if codigo_ascii % 2 == 0:  # Si el código ASCII es divisible entre 2 (par)\n",
        "        print(\"El código ASCII del carácter '\" + caracter + \"' es par\")\n",
        "    else:\n",
        "        print(\"El código ASCII del carácter '\" + caracter + \"' es impar\")\n",
        "\n",
        "    # Mostrar el valor ASCII por si lo necesitamos\n",
        "    print(\"El código ASCII es: \" + str(codigo_ascii))\n",
        "else:\n",
        "    print(\"¡Error! Debes ingresar una cadena de solo un carácter\")\n",
        "\n"
      ],
      "metadata": {
        "colab": {
          "base_uri": "https://localhost:8080/"
        },
        "id": "2vrVH5lylGK1",
        "outputId": "dce4127c-137e-4c06-ccbb-e90a47570cfb"
      },
      "execution_count": 28,
      "outputs": [
        {
          "output_type": "stream",
          "name": "stdout",
          "text": [
            "Ingrese UNA SOLA LETRA O SIMBOLO! (una letra o símbolo): 4\n",
            "El código ASCII del carácter '4' es par.\n",
            "El código ASCII es: 52\n"
          ]
        }
      ]
    },
    {
      "cell_type": "code",
      "source": [
        "caracter = input(\"Ingrese un carácter: \")\n",
        "numeros = \"0123456789\"\n",
        "if caracter in numeros:\n",
        "    print(\"El carácter '\" + caracter + \"' es un dígito\")\n",
        "else:\n",
        "    print(\"El carácter '\" + caracter + \"' no es un dígito\")\n"
      ],
      "metadata": {
        "colab": {
          "base_uri": "https://localhost:8080/"
        },
        "id": "KCdEIaxulGrf",
        "outputId": "8b9a6df2-13c8-4d66-9070-33a6736bcc60"
      },
      "execution_count": 34,
      "outputs": [
        {
          "output_type": "stream",
          "name": "stdout",
          "text": [
            "Ingrese un carácter: h\n",
            "El carácter 'h' no es un dígito\n"
          ]
        }
      ]
    },
    {
      "cell_type": "code",
      "source": [
        "a = float(input(\"Ingrese el primer número: \"))\n",
        "b = float(input(\"Ingrese el segundo número: \"))\n",
        " # Verificar si el primer número es múltiplo del segundo\n",
        "if a % b == 0:\n",
        "    print(str(a) + \" es múltiplo de \" + str(b))\n",
        "elif b % a == 0:\n",
        "    print(str(b) + \" es múltiplo de \" + str(a))\n",
        "else:\n",
        "    print(str(a) + \" no es múltiplo de \" + str(b) + \" y \" + str(b) + \" no es múltiplo de \" + str(a))\n",
        "\n"
      ],
      "metadata": {
        "colab": {
          "base_uri": "https://localhost:8080/"
        },
        "id": "WfZjOUBSru9U",
        "outputId": "cc58891e-640f-4259-b3f5-83ddca3dafee"
      },
      "execution_count": 59,
      "outputs": [
        {
          "output_type": "stream",
          "name": "stdout",
          "text": [
            "Ingrese el primer número: 79\n",
            "Ingrese el segundo número: 2\n",
            "79.0 no es múltiplo de 2.0 y 2.0 no es múltiplo de 79.0\n"
          ]
        }
      ]
    },
    {
      "cell_type": "code",
      "source": [
        "a=float(input(\"ingrese un numero\"))\n",
        "if a<0:\n",
        "    print(\"el numero \" + str(a) + \" es negativo\")\n",
        "elif a>0:\n",
        "    print(\"el numero \" + str(a) + \" es positivo\")\n",
        "else:\n",
        "    print(\"el numero \" + str(a) + \" es neutro\")"
      ],
      "metadata": {
        "colab": {
          "base_uri": "https://localhost:8080/"
        },
        "id": "prkupZsHvZOg",
        "outputId": "8892bd33-f5ec-46cf-e12b-b4c425d35c6a"
      },
      "execution_count": 69,
      "outputs": [
        {
          "output_type": "stream",
          "name": "stdout",
          "text": [
            "ingrese un numero2\n",
            "el numero 2.0 es positivo\n"
          ]
        }
      ]
    },
    {
      "cell_type": "code",
      "source": [],
      "metadata": {
        "id": "96K_NfxXxqws"
      },
      "execution_count": 61,
      "outputs": []
    }
  ]
}